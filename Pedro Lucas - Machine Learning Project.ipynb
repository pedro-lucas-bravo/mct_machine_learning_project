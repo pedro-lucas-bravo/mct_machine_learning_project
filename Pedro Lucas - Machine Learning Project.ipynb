{
 "cells": [
  {
   "cell_type": "code",
   "execution_count": 1,
   "metadata": {},
   "outputs": [],
   "source": [
    "import numpy as np\n",
    "import pandas as pd\n",
    "import scipy\n",
    "import librosa, librosa.display\n",
    "import matplotlib.pyplot as plt\n",
    "import matplotlib.style as ms\n",
    "#ms.use('seaborn-muted')\n",
    "import IPython.display as Ipd\n",
    "import os\n",
    "import sklearn"
   ]
  },
  {
   "cell_type": "code",
   "execution_count": 71,
   "metadata": {},
   "outputs": [
    {
     "data": {
      "text/plain": [
       "49"
      ]
     },
     "execution_count": 71,
     "metadata": {},
     "output_type": "execute_result"
    }
   ],
   "source": [
    "#Get all metadata\n",
    "\n",
    "filenames_meta = os.listdir('data/dcase_data/metadata_dev') #Development\n",
    "\n",
    "full_metadata = pd.DataFrame()\n",
    "#all_metadata\n",
    "max_it = 2\n",
    "c = 0\n",
    "for i in range(len(filenames_meta)):\n",
    "    metadata = pd.read_csv('data/dcase_data/metadata_dev/' + filenames_meta[i])  #Development\n",
    "    full_metadata = full_metadata.append(metadata, ignore_index=True, sort=False)\n",
    "    c +=1\n",
    "    if c == max_it:\n",
    "        break\n",
    "len(full_metadata)"
   ]
  },
  {
   "cell_type": "code",
   "execution_count": 72,
   "metadata": {},
   "outputs": [
    {
     "name": "stdout",
     "output_type": "stream",
     "text": [
      "(4, 1295452)\n",
      "processing split1_ir0_ov1_1.csv\n",
      "processing split1_ir0_ov1_1.csv\n",
      "processing split1_ir0_ov1_1.csv\n",
      "processing split1_ir0_ov1_1.csv\n",
      "processing split1_ir0_ov1_1.csv\n",
      "processing split1_ir0_ov1_1.csv\n",
      "processing split1_ir0_ov1_1.csv\n",
      "processing split1_ir0_ov1_1.csv\n",
      "processing split1_ir0_ov1_1.csv\n",
      "processing split1_ir0_ov1_1.csv\n",
      "processing split1_ir0_ov1_1.csv\n",
      "processing split1_ir0_ov1_1.csv\n",
      "processing split1_ir0_ov1_1.csv\n",
      "processing split1_ir0_ov1_1.csv\n",
      "processing split1_ir0_ov1_1.csv\n",
      "processing split1_ir0_ov1_1.csv\n",
      "processing split1_ir0_ov1_1.csv\n",
      "processing split1_ir0_ov1_1.csv\n",
      "processing split1_ir0_ov1_1.csv\n",
      "processing split1_ir0_ov1_1.csv\n",
      "processing split1_ir0_ov1_1.csv\n",
      "processing split1_ir0_ov1_1.csv\n",
      "processing split1_ir0_ov1_1.csv\n",
      "(4, 1278955)\n",
      "processing split1_ir0_ov1_10.csv\n",
      "processing split1_ir0_ov1_10.csv\n",
      "processing split1_ir0_ov1_10.csv\n",
      "processing split1_ir0_ov1_10.csv\n",
      "processing split1_ir0_ov1_10.csv\n",
      "processing split1_ir0_ov1_10.csv\n",
      "processing split1_ir0_ov1_10.csv\n",
      "processing split1_ir0_ov1_10.csv\n",
      "processing split1_ir0_ov1_10.csv\n",
      "processing split1_ir0_ov1_10.csv\n",
      "processing split1_ir0_ov1_10.csv\n",
      "processing split1_ir0_ov1_10.csv\n",
      "processing split1_ir0_ov1_10.csv\n",
      "processing split1_ir0_ov1_10.csv\n",
      "processing split1_ir0_ov1_10.csv\n",
      "processing split1_ir0_ov1_10.csv\n",
      "processing split1_ir0_ov1_10.csv\n",
      "processing split1_ir0_ov1_10.csv\n",
      "processing split1_ir0_ov1_10.csv\n",
      "processing split1_ir0_ov1_10.csv\n",
      "processing split1_ir0_ov1_10.csv\n",
      "processing split1_ir0_ov1_10.csv\n",
      "processing split1_ir0_ov1_10.csv\n",
      "processing split1_ir0_ov1_10.csv\n",
      "processing split1_ir0_ov1_10.csv\n",
      "processing split1_ir0_ov1_10.csv\n",
      "Done!\n",
      "(49, 2)\n"
     ]
    }
   ],
   "source": [
    "sr = 22050\n",
    "\n",
    "def extract_features_target(signal, ele, azi):\n",
    "    output = librosa.feature.melspectrogram(signal, n_mels=15)\n",
    "    output = output.flatten()\n",
    "    return output, np.array([ele, azi])\n",
    "\n",
    "#creating an array of zeros of the proper size where we will store computed features and lables\n",
    "\n",
    "filenames_meta = os.listdir('data/dcase_data/metadata_dev') #Development\n",
    "features = np.zeros((len(full_metadata),2)) #we compute the melspectrogram which once flattened will produce 22144 values\n",
    "target = np.zeros((len(full_metadata),2)) #we store the 2 target values\n",
    "\n",
    "example = 0\n",
    "for i in range(max_it):\n",
    "    \n",
    "    #Metadata\n",
    "    metadata = pd.read_csv('data/dcase_data/metadata_dev/' + filenames_meta[i])  #Development\n",
    "    filename = os.path.splitext(filenames_meta[i])[0]\n",
    "    \n",
    "    #Audio track\n",
    "    signal, dummy = librosa.load('data/dcase_data/foa_dev/' + filename + '.wav', sr, mono=False)\n",
    "    print(signal.shape)\n",
    "    \n",
    "    for s in range(len(metadata)):\n",
    "        #print('processing',filenames[i])\n",
    "        start_time = int(metadata['start_time'][s] * sr)\n",
    "        end_time = int(metadata['end_time'][s] * sr)\n",
    "        subsignal = signal[:, start_time:end_time]\n",
    "        features[example,:], target[example,:] = extract_features_target(subsignal, metadata['ele'][s],  metadata['azi'][s])\n",
    "        #Ipd.display(Ipd.Audio(subsignal, rate=sr))\n",
    "        example += 1\n",
    "\n",
    "print('Done!')\n",
    "print(features.shape)\n"
   ]
  },
  {
   "cell_type": "code",
   "execution_count": 73,
   "metadata": {},
   "outputs": [
    {
     "name": "stdout",
     "output_type": "stream",
     "text": [
      "[[ -10.  -10.]\n",
      " [ -20.  -70.]\n",
      " [  10. -120.]\n",
      " [  10.  140.]\n",
      " [  30. -180.]\n",
      " [ -10.  130.]\n",
      " [  10.   20.]\n",
      " [  20.  -70.]\n",
      " [ -10.  140.]\n",
      " [ -10.  130.]\n",
      " [ -10. -160.]\n",
      " [  20.   60.]\n",
      " [ -40.  170.]\n",
      " [ -30.   70.]\n",
      " [ -40.  -80.]\n",
      " [ -30.  -80.]\n",
      " [  20.  170.]\n",
      " [  40.   80.]\n",
      " [  40. -150.]\n",
      " [ -10.  -60.]\n",
      " [ -30.  -50.]\n",
      " [  10. -170.]\n",
      " [ -20.  110.]\n",
      " [   0.  160.]\n",
      " [ -10. -180.]\n",
      " [   0.  110.]\n",
      " [  20.   50.]\n",
      " [  10.  150.]\n",
      " [ -10.  150.]\n",
      " [ -20.   90.]\n",
      " [ -20. -150.]\n",
      " [ -40. -140.]\n",
      " [ -10. -100.]\n",
      " [ -20.    0.]\n",
      " [  20. -110.]\n",
      " [ -30.  -20.]\n",
      " [  10. -110.]\n",
      " [  10.   80.]\n",
      " [ -10.  -90.]\n",
      " [ -20.  -10.]\n",
      " [  10.  -20.]\n",
      " [ -30.  100.]\n",
      " [ -10.  -60.]\n",
      " [ -20. -180.]\n",
      " [ -20.  140.]\n",
      " [   0. -130.]\n",
      " [  10.  -30.]\n",
      " [ -10.  -70.]\n",
      " [ -20.  -70.]]\n"
     ]
    }
   ],
   "source": [
    "print(target)"
   ]
  }
 ],
 "metadata": {
  "kernelspec": {
   "display_name": "Python 3",
   "language": "python",
   "name": "python3"
  },
  "language_info": {
   "codemirror_mode": {
    "name": "ipython",
    "version": 3
   },
   "file_extension": ".py",
   "mimetype": "text/x-python",
   "name": "python",
   "nbconvert_exporter": "python",
   "pygments_lexer": "ipython3",
   "version": "3.8.3"
  }
 },
 "nbformat": 4,
 "nbformat_minor": 4
}
