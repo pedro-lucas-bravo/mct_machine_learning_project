{
 "cells": [
  {
   "cell_type": "markdown",
   "metadata": {},
   "source": [
    "# Inference"
   ]
  },
  {
   "cell_type": "code",
   "execution_count": 11,
   "metadata": {},
   "outputs": [],
   "source": [
    "import numpy as np\n",
    "import pandas as pd\n",
    "import sklearn\n",
    "import joblib"
   ]
  },
  {
   "cell_type": "code",
   "execution_count": 7,
   "metadata": {},
   "outputs": [
    {
     "name": "stdout",
     "output_type": "stream",
     "text": [
      "Loading features...\n",
      "(3974, 768)\n",
      "(3974, 3)\n",
      "Done!\n"
     ]
    }
   ],
   "source": [
    "#Load from file\n",
    "print('Loading features...')\n",
    "dataset_test = pd.read_csv('features_test.csv')\n",
    "num_features = 768\n",
    "features_test = dataset_test.iloc[:,0:num_features].to_numpy()\n",
    "target_test = np.zeros((features_test.shape[0],3))\n",
    "target_test[:,0] = dataset_test['x'] \n",
    "target_test[:,1] = dataset_test['y']\n",
    "target_test[:,2] = dataset_test['z']\n",
    "print(features_test.shape)\n",
    "print(target_test.shape)\n",
    "print('Done!')"
   ]
  },
  {
   "cell_type": "code",
   "execution_count": 13,
   "metadata": {},
   "outputs": [
    {
     "name": "stdout",
     "output_type": "stream",
     "text": [
      "R2 score on individual targets [0.66955375 0.6870105  0.5155454 ]\n"
     ]
    }
   ],
   "source": [
    "#restoring the classifier model from file\n",
    "joblib_file = 'doa_model.pkl'\n",
    "restored_model = joblib.load(joblib_file)\n",
    "target_pred = restored_model.predict(features_test)\n",
    "print('R2 score on individual targets',sklearn.metrics.r2_score(target_test, target_pred, multioutput='raw_values') )"
   ]
  }
 ],
 "metadata": {
  "kernelspec": {
   "display_name": "Python 3",
   "language": "python",
   "name": "python3"
  },
  "language_info": {
   "codemirror_mode": {
    "name": "ipython",
    "version": 3
   },
   "file_extension": ".py",
   "mimetype": "text/x-python",
   "name": "python",
   "nbconvert_exporter": "python",
   "pygments_lexer": "ipython3",
   "version": "3.8.3"
  }
 },
 "nbformat": 4,
 "nbformat_minor": 4
}
