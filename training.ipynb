{
 "cells": [
  {
   "cell_type": "markdown",
   "metadata": {},
   "source": [
    "# Estimation of Direction of Arrival (DOA) for First Order Ambisonic Audio Files using Artificial Neural Networks\n",
    "\n",
    "**Pedro Pablo Lucas Bravo**\n",
    "\n",
    "**pedropl@uio.no**\n",
    "\n",
    "# Training\n",
    "\n",
    "**Before running**: If you DONT want to save the models set the next vatiable to FALSE."
   ]
  },
  {
   "cell_type": "code",
   "execution_count": 1,
   "metadata": {},
   "outputs": [],
   "source": [
    "save = True"
   ]
  },
  {
   "cell_type": "markdown",
   "metadata": {},
   "source": [
    "## Packages and Utilitiy Functions"
   ]
  },
  {
   "cell_type": "code",
   "execution_count": 2,
   "metadata": {},
   "outputs": [],
   "source": [
    "import numpy as np\n",
    "import pandas as pd\n",
    "import matplotlib.pyplot as plt\n",
    "import sklearn\n",
    "import joblib\n",
    "\n",
    "from sklearn.pipeline import Pipeline\n",
    "from sklearn.neural_network import MLPRegressor\n",
    "from sklearn.decomposition import PCA\n",
    "from sklearn.preprocessing import StandardScaler\n",
    "from sklearn.model_selection import RepeatedKFold\n",
    "from sklearn.model_selection import cross_validate\n",
    "\n",
    "import time\n",
    "\n",
    "start_time = time.time()\n",
    "\n",
    "#Taken from: https://stackoverflow.com/questions/2827393/angles-between-two-n-dimensional-vectors-in-python\n",
    "def unit_vector(vector):\n",
    "    \"\"\" Returns the unit vector of the vector.  \"\"\"\n",
    "    return vector / np.linalg.norm(vector)\n",
    "\n",
    "def angle_between(v1, v2):\n",
    "    \"\"\" Returns the angle in radians between vectors 'v1' and 'v2'::\n",
    "\n",
    "            >>> angle_between((1, 0, 0), (0, 1, 0))\n",
    "            1.5707963267948966\n",
    "            >>> angle_between((1, 0, 0), (1, 0, 0))\n",
    "            0.0\n",
    "            >>> angle_between((1, 0, 0), (-1, 0, 0))\n",
    "            3.141592653589793\n",
    "    \"\"\"\n",
    "    v1_u = unit_vector(v1)\n",
    "    v2_u = unit_vector(v2)\n",
    "    return np.arccos(np.clip(np.dot(v1_u, v2_u), -1.0, 1.0))"
   ]
  },
  {
   "cell_type": "markdown",
   "metadata": {},
   "source": [
    "## Load Training Features from CSV File"
   ]
  },
  {
   "cell_type": "code",
   "execution_count": 3,
   "metadata": {},
   "outputs": [
    {
     "name": "stdout",
     "output_type": "stream",
     "text": [
      "Loading features...\n",
      "(15798, 768)\n",
      "(15798, 3)\n",
      "Done!\n"
     ]
    }
   ],
   "source": [
    "#Load from file\n",
    "print('Loading features...')\n",
    "dataset = pd.read_csv('features_train.csv')\n",
    "num_features = 768\n",
    "features = dataset.iloc[:,0:num_features].to_numpy()\n",
    "target = np.zeros((features.shape[0],3))\n",
    "target[:,0] = dataset['x'] \n",
    "target[:,1] = dataset['y']\n",
    "target[:,2] = dataset['z']\n",
    "print(features.shape)\n",
    "print(target.shape)\n",
    "print('Done!')"
   ]
  },
  {
   "cell_type": "markdown",
   "metadata": {},
   "source": [
    "## Training\n",
    "\n",
    "The training process includes a pipeline with 3 steps: \n",
    "\n",
    "1. A 'whitening' transformation using a StandardScaler.\n",
    "2. Dimensionality reduction using Principal Component Analysis(PCA) to take 256 component.\n",
    "3. A Multi-layer Perceptron regressor with 2 hidden layers (50 and 25 respectively) with iteration limit of 500, a logistic activation function, learning rate of 0.0001 (learning rate is constant), tolerance for converging of 0.00001, a L2 regularization parameter alpha of 0.1 to avoid overfitting, and the Adam optimization algorithm as solver.\n",
    "\n",
    "Before the training, this pipeline is tested with a repeated k-fold validation strategy to check relevant scores for the application. To arrive to this pipeline and network architecture, I tested several approaches regarding feature extraction and pipeline by using a Grid Search, specially in terms of hyperparameters for the ANN regarding hidden layers, activation function, and alpha; also training several PCA components. Part of these experiments are found in the [experiments](./experiments) folder (Remember that the notebooks here will not run unless they are in the root folder).\n",
    "\n",
    "### Cross-validation"
   ]
  },
  {
   "cell_type": "code",
   "execution_count": 4,
   "metadata": {},
   "outputs": [
    {
     "name": "stdout",
     "output_type": "stream",
     "text": [
      "Start Validation...\n",
      "\n",
      "Mean Squared Error mean and variance 0.12631169274574797 4.122768000458716e-06\n",
      "Mean Absolute Error mean and variance 0.2623464434484679 5.0192170235423905e-06\n",
      "Median Absolute Error mean and variance 0.20345224096544587 5.598656677467204e-06\n",
      "R2 mean and variance 0.5878401991577341 4.1264026511914066e-05 \n",
      "\n",
      "Done!\n"
     ]
    }
   ],
   "source": [
    "\n",
    "print('Start Validation...\\n')\n",
    "#creating pipeline\n",
    "pipe = Pipeline([\n",
    "        ('scaler', StandardScaler()),\n",
    "        ('dim_red', PCA(n_components = 256)),\n",
    "        ('regressor', MLPRegressor(hidden_layer_sizes=(50, 25), max_iter=500, activation='logistic', verbose=False, random_state = 1, learning_rate_init = 0.0001, tol = 0.00001, alpha = 0.1))\n",
    "        ])\n",
    "\n",
    "#Perform cross-validation\n",
    "rkf = RepeatedKFold(n_splits=5, n_repeats=5)\n",
    "\n",
    "#initializing and running the cross validator with pipe, features, labels, scores, and kfold object\n",
    "scores = cross_validate(pipe, features, target, cv=rkf, scoring=('neg_mean_squared_error', 'neg_mean_absolute_error', 'neg_median_absolute_error', 'r2'),return_train_score=True)\n",
    "\n",
    "#print(scores,'\\n')\n",
    "print('Mean Squared Error mean and variance', -np.mean(scores['test_neg_mean_squared_error']),np.var(scores['test_neg_mean_squared_error']))\n",
    "print('Mean Absolute Error mean and variance', -np.mean(scores['test_neg_mean_absolute_error']),np.var(scores['test_neg_mean_absolute_error']))\n",
    "print('Median Absolute Error mean and variance', -np.mean(scores['test_neg_median_absolute_error']),np.var(scores['test_neg_median_absolute_error']))\n",
    "print('R2 mean and variance', np.mean(scores['test_r2']),np.var(scores['test_r2']),'\\n')\n",
    "\n",
    "print('Done!')\n",
    "\n"
   ]
  },
  {
   "cell_type": "markdown",
   "metadata": {},
   "source": [
    "### Training"
   ]
  },
  {
   "cell_type": "code",
   "execution_count": 5,
   "metadata": {},
   "outputs": [
    {
     "data": {
      "text/plain": [
       "Pipeline(steps=[('scaler', StandardScaler()),\n",
       "                ('dim_red', PCA(n_components=256)),\n",
       "                ('regressor',\n",
       "                 MLPRegressor(activation='logistic', alpha=0.1,\n",
       "                              hidden_layer_sizes=(50, 25),\n",
       "                              learning_rate_init=0.0001, max_iter=500,\n",
       "                              random_state=1, tol=1e-05))])"
      ]
     },
     "execution_count": 5,
     "metadata": {},
     "output_type": "execute_result"
    }
   ],
   "source": [
    "#training the pipeline\n",
    "pipe.fit(features, target)"
   ]
  },
  {
   "cell_type": "markdown",
   "metadata": {},
   "source": [
    "## Saving the Model"
   ]
  },
  {
   "cell_type": "code",
   "execution_count": 6,
   "metadata": {},
   "outputs": [],
   "source": [
    "if save:\n",
    "    #saving the model to file\n",
    "    joblib_file = \"doa_model.pkl\"\n",
    "    joblib.dump(pipe, joblib_file)"
   ]
  },
  {
   "cell_type": "markdown",
   "metadata": {},
   "source": [
    "## Testing the Model\n",
    "\n",
    "For this testing a different database is used. The database is separated in training and testing. In the [feature_extraction.ipybn](feature_extraction.ipynb) notebook the testing data is also transformed and saved so that it can be easyly and rapidly retrived for testing purposes. Here I load that data, get a prediction from it, and compare in terms of performance metrics and the delta angle between the actual DOA and the estimated DOA."
   ]
  },
  {
   "cell_type": "markdown",
   "metadata": {},
   "source": [
    "### Loading Test Data"
   ]
  },
  {
   "cell_type": "code",
   "execution_count": 7,
   "metadata": {},
   "outputs": [
    {
     "name": "stdout",
     "output_type": "stream",
     "text": [
      "Loading features...\n",
      "(3974, 768)\n",
      "(3974, 3)\n",
      "Done!\n"
     ]
    }
   ],
   "source": [
    "#Load from file\n",
    "print('Loading features...')\n",
    "dataset_test = pd.read_csv('features_test.csv')\n",
    "num_features = 768\n",
    "features_test = dataset_test.iloc[:,0:num_features].to_numpy()\n",
    "target_test = np.zeros((features_test.shape[0],3))\n",
    "target_test[:,0] = dataset_test['x'] \n",
    "target_test[:,1] = dataset_test['y']\n",
    "target_test[:,2] = dataset_test['z']\n",
    "print(features_test.shape)\n",
    "print(target_test.shape)\n",
    "print('Done!')"
   ]
  },
  {
   "cell_type": "markdown",
   "metadata": {},
   "source": [
    "### Restoring the Model from File"
   ]
  },
  {
   "cell_type": "code",
   "execution_count": 8,
   "metadata": {},
   "outputs": [],
   "source": [
    "#restoring the classifier model from file\n",
    "restored_model = joblib.load(joblib_file)"
   ]
  },
  {
   "cell_type": "markdown",
   "metadata": {},
   "source": [
    "### Predicting"
   ]
  },
  {
   "cell_type": "code",
   "execution_count": 9,
   "metadata": {},
   "outputs": [],
   "source": [
    "#Predicting from the testing data\n",
    "target_pred = restored_model.predict(features_test)"
   ]
  },
  {
   "cell_type": "markdown",
   "metadata": {},
   "source": [
    "### Performance Metrics\n",
    "\n",
    "It shows a plot with the performance of the ANN through the iterations, which converges fast to the best model. Also, this metrics are based on the error per each component (x, y, z) that represents the DOA vector. The last metric considers a different parameter which is the angle between the actual and the estimated vector in degrees, it is shown the average error."
   ]
  },
  {
   "cell_type": "code",
   "execution_count": 10,
   "metadata": {},
   "outputs": [
    {
     "data": {
      "image/png": "[encoded data removed]",
      "text/plain": [
       "<Figure size 432x288 with 1 Axes>"
      ]
     },
     "metadata": {
      "needs_background": "light"
     },
     "output_type": "display_data"
    },
    {
     "name": "stdout",
     "output_type": "stream",
     "text": [
      "Mean squared error: 0.1137\n",
      "Mean absolute error: 0.2476\n",
      "Median absolute error: 0.1914\n",
      "Coefficient of determination (R2 score): 0.6249\n",
      "Explained variance score: 0.6254\n",
      "R2 score on individual targets [0.67009835 0.68634567 0.51839033] \n",
      "\n",
      "MEAN ANGLE ERROR: 29.9229 Degrees\n",
      "\n",
      "TOTAL EXECUTION TIME:  576.068217754364  sec\n"
     ]
    }
   ],
   "source": [
    "#plotting the loss curve over training iteration \n",
    "plt.plot(restored_model.get_params()['steps'][2][1].loss_curve_)\n",
    "plt.title('Loss Curve')\n",
    "plt.xlabel('Iteration')\n",
    "plt.ylabel('Squared Loss')\n",
    "plt.show()\n",
    "\n",
    "#computing a set of performance metrics\n",
    "\n",
    "#mean squared error (lower the better)\n",
    "print('Mean squared error: %.4f'% sklearn.metrics.mean_squared_error(target_test, target_pred))\n",
    "\n",
    "#mean absolute error (lower the better)\n",
    "print('Mean absolute error: %.4f'% sklearn.metrics.mean_absolute_error(target_test, target_pred))\n",
    "\n",
    "#median absolute error (lower the better)\n",
    "print('Median absolute error: %.4f'% sklearn.metrics.median_absolute_error(target_test, target_pred))\n",
    "\n",
    "#coefficient of determination (r2 score): 1 is perfect prediction (it can get arbitrary negative)\n",
    "print('Coefficient of determination (R2 score): %.4f'% sklearn.metrics.r2_score(target_test, target_pred))\n",
    "\n",
    "#explained variance score: 1 is perfect prediction (it can get arbitrary worse)\n",
    "print('Explained variance score: %.4f'% sklearn.metrics.explained_variance_score(target_test, target_pred))\n",
    "\n",
    "#this is is a better represenation of the r2 score when working with multiple outputs\n",
    "#as it provides a value for each target value\n",
    "print('R2 score on individual targets [x, y, z]',sklearn.metrics.r2_score(target_test, target_pred, multioutput='raw_values'), '\\n')\n",
    "\n",
    "#####----- Delta angle between actual DOA and estimated DOA\n",
    "deg = []\n",
    "for d in range(target_test.shape[0]):\n",
    "    deg = np.append(deg, np.rad2deg(angle_between(target_test[d], target_pred[d])))\n",
    "print('MEAN ANGLE ERROR: %.4f'% np.mean(deg), 'Degrees\\n')\n",
    "\n",
    "print('TOTAL EXECUTION TIME: ', str(time.time() - start_time), ' sec')\n"
   ]
  }
 ],
 "metadata": {
  "kernelspec": {
   "display_name": "Python 3",
   "language": "python",
   "name": "python3"
  },
  "language_info": {
   "codemirror_mode": {
    "name": "ipython",
    "version": 3
   },
   "file_extension": ".py",
   "mimetype": "text/x-python",
   "name": "python",
   "nbconvert_exporter": "python",
   "pygments_lexer": "ipython3",
   "version": "3.8.3"
  }
 },
 "nbformat": 4,
 "nbformat_minor": 4
}
